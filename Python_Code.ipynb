{
 "cells": [
  {
   "cell_type": "code",
   "execution_count": null,
   "id": "108f43a9",
   "metadata": {},
   "outputs": [],
   "source": [
    "# python libraries\n",
    "import pandas as pd\n",
    "import numpy as np\n",
    "import matplotlib.pyplot as plt\n",
    "%matplotlib inline\n",
    "import scipy.stats as stats\n",
    "import seaborn as sns"
   ]
  },
  {
   "cell_type": "code",
   "execution_count": null,
   "id": "154a509a",
   "metadata": {},
   "outputs": [],
   "source": [
    "#Importing data into python \n",
    "df = pd.read_csv(r'D:\\Downloads\\diabetes.csv')\n",
    "df.head(n = 10) "
   ]
  },
  {
   "cell_type": "code",
   "execution_count": null,
   "id": "ad337472",
   "metadata": {},
   "outputs": [],
   "source": [
    "df.shape"
   ]
  },
  {
   "cell_type": "markdown",
   "id": "c6db6a50",
   "metadata": {},
   "source": [
    "This dataset contains 768 measurements and 9 features. "
   ]
  },
  {
   "cell_type": "code",
   "execution_count": null,
   "id": "ae12eb7a",
   "metadata": {},
   "outputs": [],
   "source": [
    "df['Age'].mean() "
   ]
  },
  {
   "cell_type": "code",
   "execution_count": null,
   "id": "88a089e0",
   "metadata": {},
   "outputs": [],
   "source": [
    "df['Outcome'].value_counts()"
   ]
  },
  {
   "cell_type": "code",
   "execution_count": null,
   "id": "5ea58dcc",
   "metadata": {},
   "outputs": [],
   "source": [
    "sns.pairplot(df)"
   ]
  },
  {
   "cell_type": "markdown",
   "id": "6c49620a",
   "metadata": {},
   "source": [
    "Pairpot analysis: Histograms for glucose, blood pressure, skin thickness, \n",
    "insulin, and BMI seem to be bimodal distribution "
   ]
  },
  {
   "cell_type": "code",
   "execution_count": null,
   "id": "07983636",
   "metadata": {},
   "outputs": [],
   "source": [
    "df.isnull().any()"
   ]
  },
  {
   "cell_type": "code",
   "execution_count": null,
   "id": "a9a2c965",
   "metadata": {},
   "outputs": [],
   "source": [
    "df[\"Glucose\"] = df[\"Glucose\"].replace(0, np.NaN)\n",
    "df[\"BloodPressure\"] = df[\"BloodPressure\"].replace(0, np.NaN)\n",
    "df[\"SkinThickness\"] = df[\"SkinThickness\"].replace(0, np.NaN)\n",
    "df[\"Insulin\"] = df[\"Insulin\"].replace(0, np.NaN)\n",
    "df[\"BMI\"] = df[\"BMI\"].replace(0, np.NaN)"
   ]
  },
  {
   "cell_type": "code",
   "execution_count": null,
   "id": "d5611ad6",
   "metadata": {},
   "outputs": [],
   "source": [
    "sns.pairplot(df)"
   ]
  },
  {
   "cell_type": "markdown",
   "id": "7c158013",
   "metadata": {},
   "source": [
    "Executing the first line of given code replaced any zero values with null. Doing this basically ignored the data point while calculating mean or median. Hence, we can see a normal distribution now. "
   ]
  },
  {
   "cell_type": "code",
   "execution_count": null,
   "id": "2de5b67f",
   "metadata": {},
   "outputs": [],
   "source": [
    "df.isnull().any()"
   ]
  },
  {
   "cell_type": "code",
   "execution_count": null,
   "id": "78b836bc",
   "metadata": {},
   "outputs": [],
   "source": [
    "df.isna().sum() "
   ]
  },
  {
   "cell_type": "markdown",
   "id": "30e86e2a",
   "metadata": {},
   "source": [
    "Executing second line of code tells us that there are null values in glucose, blood pressure, skin thickness, insulin, and BMI which need to be relpaced. "
   ]
  },
  {
   "cell_type": "code",
   "execution_count": null,
   "id": "809659c5",
   "metadata": {},
   "outputs": [],
   "source": [
    "df['Glucose'].fillna(df['Glucose'].median(), inplace = True)\n",
    "df['BloodPressure'].fillna(df['BloodPressure'].median(),inplace=True)\n",
    "df['SkinThickness'].fillna(df['SkinThickness'].median(),inplace=True)\n",
    "df['Insulin'].fillna(df['Insulin'].median(),inplace=True)\n",
    "df['BMI'].fillna(df['BMI'].median(),inplace=True)  "
   ]
  },
  {
   "cell_type": "markdown",
   "id": "ba7574cd",
   "metadata": {},
   "source": [
    "Executing the third line of code replaced all null values with the median of the individual feature. "
   ]
  },
  {
   "cell_type": "markdown",
   "id": "ebde3310",
   "metadata": {},
   "source": [
    "In my opinion replacing null values with either mean or median is valid in this case because we have low number of measurements. However, if we had a large number of measurements, we could have basically dropped those null measurements. "
   ]
  },
  {
   "cell_type": "code",
   "execution_count": null,
   "id": "b590d19d",
   "metadata": {},
   "outputs": [],
   "source": [
    "df.corr()"
   ]
  },
  {
   "cell_type": "markdown",
   "id": "851120a5",
   "metadata": {},
   "source": [
    "Pregnancy has highest correlation with age (0.544341). "
   ]
  },
  {
   "cell_type": "markdown",
   "id": "03af6a3c",
   "metadata": {},
   "source": [
    "Glucose has highest correlation with outcome (0.492782)."
   ]
  },
  {
   "cell_type": "code",
   "execution_count": null,
   "id": "48dff5d7",
   "metadata": {},
   "outputs": [],
   "source": [
    "df.groupby(['Outcome']).mean()"
   ]
  },
  {
   "cell_type": "markdown",
   "id": "49d687c3",
   "metadata": {},
   "source": [
    "Each features has lower average value with outcome 0 (no diabetes) compared to Outcome 1 (diabetes)."
   ]
  },
  {
   "cell_type": "code",
   "execution_count": null,
   "id": "31123615",
   "metadata": {},
   "outputs": [],
   "source": [
    "sns.pairplot(df,hue = 'Outcome')"
   ]
  },
  {
   "cell_type": "markdown",
   "id": "0754b1d7",
   "metadata": {},
   "source": [
    "Part 2 – Hypothesis Generation and Testing"
   ]
  },
  {
   "cell_type": "code",
   "execution_count": null,
   "id": "fa39ab29",
   "metadata": {},
   "outputs": [],
   "source": [
    "stats.probplot(df['BloodPressure'], plot = plt)"
   ]
  },
  {
   "cell_type": "code",
   "execution_count": null,
   "id": "83618410",
   "metadata": {},
   "outputs": [],
   "source": [
    "#normality test\n",
    "#H0: Blood pressure is normally distributed\n",
    "#H1: Blood pressure isn't normally distributed\n",
    "# alpha = 0.01\n",
    "\n",
    "stats.normaltest(df['BloodPressure'])"
   ]
  },
  {
   "cell_type": "markdown",
   "id": "33f3bef2",
   "metadata": {},
   "source": [
    "Since, p-value is smaller than alpha, we conculde H1 i.e., Blood pressure isn't normally distributed. "
   ]
  },
  {
   "cell_type": "code",
   "execution_count": null,
   "id": "1c798142",
   "metadata": {},
   "outputs": [],
   "source": [
    "df['BloodPressure'].mean() "
   ]
  },
  {
   "cell_type": "code",
   "execution_count": null,
   "id": "7ec12ee1",
   "metadata": {},
   "outputs": [],
   "source": [
    "np.percentile(df['BloodPressure'],[2.5,97.5]) "
   ]
  },
  {
   "cell_type": "markdown",
   "id": "f4b3e16f",
   "metadata": {},
   "source": [
    "95% confidence interval means we are 95% certain that the mean falls within this range. "
   ]
  },
  {
   "cell_type": "code",
   "execution_count": null,
   "id": "416ff921",
   "metadata": {},
   "outputs": [],
   "source": [
    "np.percentile(df['BloodPressure'],[0.5,99.5]) "
   ]
  },
  {
   "cell_type": "markdown",
   "id": "964eae7e",
   "metadata": {},
   "source": [
    "99% confidence interval means we are 99% certain that the mean falls within this range."
   ]
  },
  {
   "cell_type": "markdown",
   "id": "f231c368",
   "metadata": {},
   "source": [
    "Yes, the mean falls within both of the confidence interval 95% and 99%. "
   ]
  },
  {
   "cell_type": "code",
   "execution_count": null,
   "id": "5ce385f3",
   "metadata": {},
   "outputs": [],
   "source": [
    "df.head()"
   ]
  },
  {
   "cell_type": "code",
   "execution_count": null,
   "id": "44db5b4f",
   "metadata": {},
   "outputs": [],
   "source": [
    "#3(a)\n",
    "\n",
    "#H0: The blood pressure of people without diabetes is not significantly different than the mean BP of population\n",
    "#H1: The blood pressure of people without diabetes is significantly different than the mean BP of population\n",
    "# alpha = 0.01\n",
    "\n",
    "stats.ttest_1samp(df[df['Outcome'] == 0]['BloodPressure'], popmean = 71)"
   ]
  },
  {
   "cell_type": "markdown",
   "id": "be02266d",
   "metadata": {},
   "source": [
    "Since p-value is higher than alpha, we fail to reject H0. i.e. we conclude the blood pressure of people without diabetes is not significantly different than the mean BP of population. "
   ]
  },
  {
   "cell_type": "code",
   "execution_count": null,
   "id": "787dd0e0",
   "metadata": {},
   "outputs": [],
   "source": [
    "#3(b)\n",
    "\n",
    "#H0: The blood pressure of people with diabetes is not significantly different than the mean BP of population\n",
    "#H1: The blood pressure of people with diabetes is significantly different than the mean BP of population\n",
    "# alpha = 0.01\n",
    "\n",
    "stats.ttest_1samp(df[df['Outcome'] == 1]['BloodPressure'], popmean = 71)"
   ]
  },
  {
   "cell_type": "markdown",
   "id": "97cf8d3a",
   "metadata": {},
   "source": [
    "Since p-value is less than alpha, we reject H0. i.e. we conclude the blood pressure of people with diabetes is significantly different than the mean BP of population. "
   ]
  },
  {
   "cell_type": "code",
   "execution_count": null,
   "id": "98245a93",
   "metadata": {},
   "outputs": [],
   "source": [
    "#3(c)\n",
    "\n",
    "#H0: mean blood pressure of people with and without diabetes in this sample is not significantly different. \n",
    "#H1: mean blood pressure of people with and without diabetes in this sample is significantly different. \n",
    "# alpha: 0.01 \n",
    "\n",
    "stats.ttest_ind(df[df['Outcome'] == 1]['BloodPressure'], df[df['Outcome'] == 0]['BloodPressure'])"
   ]
  },
  {
   "cell_type": "markdown",
   "id": "627758a9",
   "metadata": {},
   "source": [
    "Since p-value is less than alpha, we reject H0. i.e. we conclude the mean blood pressure of people with and without diabetes in this sample is significantly different."
   ]
  },
  {
   "cell_type": "code",
   "execution_count": null,
   "id": "c5f4cb4c",
   "metadata": {},
   "outputs": [],
   "source": [
    "# 4. \n",
    "\n",
    "#H0: The glucose level of people without diabetes is not significantly different than the mean glucose level of population\n",
    "#H1: The glucose level of people without diabetes is significantly different than the mean glucose level of population\n",
    "# alpha = 0.01\n",
    "\n",
    "stats.ttest_1samp(df[df['Outcome'] == 0]['Glucose'], popmean = 110)"
   ]
  },
  {
   "cell_type": "markdown",
   "id": "9789ffd1",
   "metadata": {},
   "source": [
    "Since p-value is higher than alpha, we fail to reject H0. i.e. we conclude the glucose level of people without diabetes is not significantly different than the mean glucose level of population."
   ]
  },
  {
   "cell_type": "code",
   "execution_count": null,
   "id": "83e2844e",
   "metadata": {},
   "outputs": [],
   "source": [
    "#H0: The glucose level of people with diabetes is not significantly different than the mean glucose level of population\n",
    "#H1: The glucose level of people with diabetes is significantly different than the mean glucose level of population\n",
    "# alpha = 0.01\n",
    "\n",
    "stats.ttest_1samp(df[df['Outcome'] == 1]['Glucose'], popmean = 110)"
   ]
  },
  {
   "cell_type": "markdown",
   "id": "fd68b012",
   "metadata": {},
   "source": [
    "Since p-value is less than alpha, we reject H0. i.e. we conclude the glucose level of people with diabetes is significantly different than the mean glucose level of population."
   ]
  },
  {
   "cell_type": "code",
   "execution_count": null,
   "id": "509b6d71",
   "metadata": {},
   "outputs": [],
   "source": [
    "#H0: mean glucose level of people with and without diabetes in this sample is not significantly different. \n",
    "#H1: mean glucose level of people with and without diabetes in this sample is significantly different. \n",
    "# alpha: 0.01 \n",
    "\n",
    "stats.ttest_ind(df[df['Outcome'] == 1]['Glucose'], df[df['Outcome'] == 0]['Glucose'])"
   ]
  },
  {
   "cell_type": "markdown",
   "id": "f67e1022",
   "metadata": {},
   "source": [
    "Since p-value is less than alpha, we reject H0. i.e. we conclude the mean glucose level of people with and without diabetes in this sample is significantly different."
   ]
  },
  {
   "cell_type": "code",
   "execution_count": null,
   "id": "73b3fea8",
   "metadata": {},
   "outputs": [],
   "source": [
    "# 5. \n",
    "# I chose insulin \n",
    "\n",
    "#H0: mean insulin level of people with and without diabetes in this sample is not significantly different. \n",
    "#H1: mean insulin level of people with and without diabetes in this sample is significantly different. \n",
    "# alpha: 0.01 \n",
    "\n",
    "stats.ttest_ind(df[df['Outcome'] == 1]['Insulin'], df[df['Outcome'] == 0]['Insulin'])"
   ]
  },
  {
   "cell_type": "markdown",
   "id": "cf6629dd",
   "metadata": {},
   "source": [
    "Since p-value is less than alpha, we reject H0. i.e. we conclude the mean insulin level of people with and without diabetes in this sample is significantly different."
   ]
  }
 ],
 "metadata": {
  "kernelspec": {
   "display_name": "Python 3",
   "language": "python",
   "name": "python3"
  },
  "language_info": {
   "codemirror_mode": {
    "name": "ipython",
    "version": 3
   },
   "file_extension": ".py",
   "mimetype": "text/x-python",
   "name": "python",
   "nbconvert_exporter": "python",
   "pygments_lexer": "ipython3",
   "version": "3.8.8"
  }
 },
 "nbformat": 4,
 "nbformat_minor": 5
}
